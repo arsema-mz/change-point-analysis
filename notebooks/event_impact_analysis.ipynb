{
 "cells": [
  {
   "cell_type": "markdown",
   "id": "7ea0cde9",
   "metadata": {},
   "source": [
    "# Major Geopolitical/ Economical Evens that influenced Brent oil prices between 1987 and 2022"
   ]
  },
  {
   "cell_type": "markdown",
   "id": "b1ee30b1",
   "metadata": {},
   "source": [
    "| Event Name                 | Start Date | End Date   | Event Type         | Description                                                                       |\n",
    "| -------------------------- | ---------- | ---------- | ------------------ | --------------------------------------------------------------------------------- |\n",
    "| Gulf War                   | 1990-08-02 | 1991-02-28 | Conflict           | Iraq's invasion of Kuwait led to a spike in oil prices.                           |\n",
    "| Asian Financial Crisis     | 1997-07-02 | 1998-12-31 | Economic Shock     | Economic collapse in Asia reduced oil demand.                                     |\n",
    "| 9/11 Attacks               | 2001-09-11 | 2001-10-31 | Political Crisis   | Triggered global market turmoil and uncertainty.                                  |\n",
    "| Iraq War                   | 2003-03-20 | 2003-05-01 | Conflict           | U.S.-led invasion raised concerns about Middle East oil supply.                   |\n",
    "| Hurricane Katrina          | 2005-08-23 | 2005-09-30 | Natural Disaster   | Major damage to U.S. oil production infrastructure in the Gulf of Mexico.         |\n",
    "| 2008 Financial Crisis      | 2008-09-15 | 2009-06-30 | Economic Shock     | Global recession caused sharp drop in demand.                                     |\n",
    "| Arab Spring                | 2011-01-01 | 2012-12-31 | Political Unrest   | Regional instability in oil-rich MENA region.                                     |\n",
    "| US Shale Boom              | 2014-01-01 | 2016-01-01 | Supply Shock       | Increased U.S. shale oil production caused oversupply and price collapse.         |\n",
    "| OPEC Output Freeze         | 2016-11-30 | 2017-06-30 | OPEC Policy Change | OPEC and non-OPEC countries agreed to cut oil output.                             |\n",
    "| US-Iran Tensions           | 2019-06-01 | 2020-01-01 | Geopolitical Risk  | Tanker attacks and sanctions led to increased uncertainty.                        |\n",
    "| COVID-19 Pandemic          | 2020-03-11 | 2021-12-31 | Global Shock       | Lockdowns collapsed global oil demand.                                            |\n",
    "| Negative Oil Prices Day    | 2020-04-20 | 2020-04-20 | Market Anomaly     | WTI crude turned negative, Brent prices also dropped sharply amid storage issues. |\n",
    "| OPEC+ Production Cuts      | 2020-04-12 | 2020-12-31 | OPEC Policy Change | Historic production cut to stabilize oil prices during COVID.                     |\n",
    "| Russia-Ukraine War         | 2022-02-24 | 2022-09-30 | War & Sanctions    | Energy market disruption and sanctions on Russia.                                 |\n",
    "| EU Oil Sanctions on Russia | 2022-06-03 | 2022-12-05 | Sanctions          | EU banned most Russian oil imports, tightening global supply.                     |\n"
   ]
  },
  {
   "cell_type": "code",
   "execution_count": 1,
   "id": "9fdf7d51",
   "metadata": {},
   "outputs": [
    {
     "name": "stdout",
     "output_type": "stream",
     "text": [
      "               event_name  start_date    end_date        event_type  \\\n",
      "0                Gulf War  1990-08-02  1991-02-28          Conflict   \n",
      "1  Asian Financial Crisis  1997-07-02  1998-12-31    Economic Shock   \n",
      "2            9/11 Attacks  2001-09-11  2001-10-31  Political Crisis   \n",
      "3                Iraq War  2003-03-20  2003-05-01          Conflict   \n",
      "4       Hurricane Katrina  2005-08-23  2005-09-30  Natural Disaster   \n",
      "\n",
      "                                         description  \n",
      "0  Iraq's invasion of Kuwait led to a spike in oi...  \n",
      "1      Economic collapse in Asia reduced oil demand.  \n",
      "2   Triggered global market turmoil and uncertainty.  \n",
      "3  U.S.-led invasion raised concerns about Middle...  \n",
      "4  Major damage to U.S. oil production infrastruc...  \n"
     ]
    }
   ],
   "source": [
    "import pandas as pd\n",
    "\n",
    "events_data = [\n",
    "    [\"Gulf War\", \"1990-08-02\", \"1991-02-28\", \"Conflict\", \"Iraq's invasion of Kuwait led to a spike in oil prices.\"],\n",
    "    [\"Asian Financial Crisis\", \"1997-07-02\", \"1998-12-31\", \"Economic Shock\", \"Economic collapse in Asia reduced oil demand.\"],\n",
    "    [\"9/11 Attacks\", \"2001-09-11\", \"2001-10-31\", \"Political Crisis\", \"Triggered global market turmoil and uncertainty.\"],\n",
    "    [\"Iraq War\", \"2003-03-20\", \"2003-05-01\", \"Conflict\", \"U.S.-led invasion raised concerns about Middle East oil supply.\"],\n",
    "    [\"Hurricane Katrina\", \"2005-08-23\", \"2005-09-30\", \"Natural Disaster\", \"Major damage to U.S. oil production infrastructure in the Gulf of Mexico.\"],\n",
    "    [\"2008 Financial Crisis\", \"2008-09-15\", \"2009-06-30\", \"Economic Shock\", \"Global recession caused sharp drop in demand.\"],\n",
    "    [\"Arab Spring\", \"2011-01-01\", \"2012-12-31\", \"Political Unrest\", \"Regional instability in oil-rich MENA region.\"],\n",
    "    [\"US Shale Boom\", \"2014-01-01\", \"2016-01-01\", \"Supply Shock\", \"Increased U.S. shale oil production caused oversupply and price collapse.\"],\n",
    "    [\"OPEC Output Freeze\", \"2016-11-30\", \"2017-06-30\", \"OPEC Policy Change\", \"OPEC and non-OPEC countries agreed to cut oil output.\"],\n",
    "    [\"US-Iran Tensions\", \"2019-06-01\", \"2020-01-01\", \"Geopolitical Risk\", \"Tanker attacks and sanctions led to increased uncertainty.\"],\n",
    "    [\"COVID-19 Pandemic\", \"2020-03-11\", \"2021-12-31\", \"Global Shock\", \"Lockdowns collapsed global oil demand.\"],\n",
    "    [\"Negative Oil Prices Day\", \"2020-04-20\", \"2020-04-20\", \"Market Anomaly\", \"WTI crude turned negative, Brent prices also dropped sharply amid storage issues.\"],\n",
    "    [\"OPEC+ Production Cuts\", \"2020-04-12\", \"2020-12-31\", \"OPEC Policy Change\", \"Historic production cut to stabilize oil prices during COVID.\"],\n",
    "    [\"Russia-Ukraine War\", \"2022-02-24\", \"2022-09-30\", \"War & Sanctions\", \"Energy market disruption and sanctions on Russia.\"],\n",
    "    [\"EU Oil Sanctions on Russia\", \"2022-06-03\", \"2022-12-05\", \"Sanctions\", \"EU banned most Russian oil imports, tightening global supply.\"],\n",
    "]\n",
    "\n",
    "events_df = pd.DataFrame(events_data, columns=[\"event_name\", \"start_date\", \"end_date\", \"event_type\", \"description\"])\n",
    "\n",
    "# Save to CSV\n",
    "events_df.to_csv(\"../data/processed/major_oil_market_events.csv\", index=False)\n",
    "\n",
    "# Preview\n",
    "print(events_df.head())\n"
   ]
  }
 ],
 "metadata": {
  "kernelspec": {
   "display_name": "Python 3",
   "language": "python",
   "name": "python3"
  },
  "language_info": {
   "codemirror_mode": {
    "name": "ipython",
    "version": 3
   },
   "file_extension": ".py",
   "mimetype": "text/x-python",
   "name": "python",
   "nbconvert_exporter": "python",
   "pygments_lexer": "ipython3",
   "version": "3.12.4"
  }
 },
 "nbformat": 4,
 "nbformat_minor": 5
}
